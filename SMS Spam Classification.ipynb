{
 "cells": [
  {
   "cell_type": "markdown",
   "metadata": {},
   "source": [
    "## Spam classification on Imbalanced SMS data\n",
    "This notebook focuses on performing binary classification task on a collection of spam and sms data i found on kaggle.\n",
    "<a>https://www.kaggle.com/uciml/sms-spam-collection-dataset</a>\n"
   ]
  },
  {
   "cell_type": "markdown",
   "metadata": {},
   "source": [
    "`Author`: Osinowo Paul <br>\n",
    "`Mail`: osinowopaull@gmail.com <br>\n",
    "`Purpose`: Practicing supervised classification on text data <br>"
   ]
  },
  {
   "cell_type": "code",
   "execution_count": 1,
   "metadata": {},
   "outputs": [],
   "source": [
    "# import common libraries\n",
    "import os\n",
    "import pandas as pd\n",
    "import numpy as np\n",
    "import matplotlib.pyplot as plt\n",
    "import seaborn as sns\n",
    "import math"
   ]
  },
  {
   "cell_type": "code",
   "execution_count": 8,
   "metadata": {},
   "outputs": [
    {
     "name": "stdout",
     "output_type": "stream",
     "text": [
      ".\\data\\spam.csv\n"
     ]
    }
   ],
   "source": [
    "# get data location\n",
    "# ensure to edit\n",
    "\n",
    "for dirpath, dirname, filename in os.walk('.\\data'):\n",
    "    if 'spam.csv' in filename:\n",
    "        sms_file = os.path.join(dirpath, filename[0])\n",
    "        \n",
    "print(sms_file)"
   ]
  },
  {
   "cell_type": "code",
   "execution_count": 9,
   "metadata": {},
   "outputs": [
    {
     "data": {
      "text/html": [
       "<div>\n",
       "<style scoped>\n",
       "    .dataframe tbody tr th:only-of-type {\n",
       "        vertical-align: middle;\n",
       "    }\n",
       "\n",
       "    .dataframe tbody tr th {\n",
       "        vertical-align: top;\n",
       "    }\n",
       "\n",
       "    .dataframe thead th {\n",
       "        text-align: right;\n",
       "    }\n",
       "</style>\n",
       "<table border=\"1\" class=\"dataframe\">\n",
       "  <thead>\n",
       "    <tr style=\"text-align: right;\">\n",
       "      <th></th>\n",
       "      <th>Label</th>\n",
       "      <th>Message</th>\n",
       "    </tr>\n",
       "  </thead>\n",
       "  <tbody>\n",
       "    <tr>\n",
       "      <th>0</th>\n",
       "      <td>ham</td>\n",
       "      <td>Go until jurong point, crazy.. Available only ...</td>\n",
       "    </tr>\n",
       "    <tr>\n",
       "      <th>1</th>\n",
       "      <td>ham</td>\n",
       "      <td>Ok lar... Joking wif u oni...</td>\n",
       "    </tr>\n",
       "    <tr>\n",
       "      <th>2</th>\n",
       "      <td>spam</td>\n",
       "      <td>Free entry in 2 a wkly comp to win FA Cup fina...</td>\n",
       "    </tr>\n",
       "    <tr>\n",
       "      <th>3</th>\n",
       "      <td>ham</td>\n",
       "      <td>U dun say so early hor... U c already then say...</td>\n",
       "    </tr>\n",
       "    <tr>\n",
       "      <th>4</th>\n",
       "      <td>ham</td>\n",
       "      <td>Nah I don't think he goes to usf, he lives aro...</td>\n",
       "    </tr>\n",
       "  </tbody>\n",
       "</table>\n",
       "</div>"
      ],
      "text/plain": [
       "  Label                                            Message\n",
       "0   ham  Go until jurong point, crazy.. Available only ...\n",
       "1   ham                      Ok lar... Joking wif u oni...\n",
       "2  spam  Free entry in 2 a wkly comp to win FA Cup fina...\n",
       "3   ham  U dun say so early hor... U c already then say...\n",
       "4   ham  Nah I don't think he goes to usf, he lives aro..."
      ]
     },
     "execution_count": 9,
     "metadata": {},
     "output_type": "execute_result"
    }
   ],
   "source": [
    "# load sms data file\n",
    "sms_data = pd.read_csv(sms_file, encoding='ISO-8859-1', usecols=['v1', 'v2'])\n",
    "\n",
    "# Rename columns\n",
    "sms_data.columns = ['Label', 'Message']\n",
    "sms_data.head()"
   ]
  },
  {
   "cell_type": "code",
   "execution_count": 51,
   "metadata": {},
   "outputs": [],
   "source": [
    "# Sparate target data from sms data\n",
    "sms = sms_data['Message'] \n",
    "label = sms_data['Label']"
   ]
  },
  {
   "cell_type": "markdown",
   "metadata": {},
   "source": [
    "`StratifiedShuffleSplit` Vs `train_test_split` with shuffling"
   ]
  },
  {
   "cell_type": "code",
   "execution_count": 52,
   "metadata": {},
   "outputs": [
    {
     "data": {
      "text/plain": [
       "ham     0.865937\n",
       "spam    0.134063\n",
       "Name: Label, dtype: float64"
      ]
     },
     "execution_count": 52,
     "metadata": {},
     "output_type": "execute_result"
    }
   ],
   "source": [
    "# Desired Population Ratio (Ham vs Spam)\n",
    "sms_data['Label'].value_counts() / len(sms_data)"
   ]
  },
  {
   "cell_type": "code",
   "execution_count": 7,
   "metadata": {},
   "outputs": [
    {
     "name": "stdout",
     "output_type": "stream",
     "text": [
      "ham     0.865829\n",
      "spam    0.134171\n",
      "Name: Label, dtype: float64\n",
      "\n",
      "ham     0.866368\n",
      "spam    0.133632\n",
      "Name: Label, dtype: float64\n"
     ]
    }
   ],
   "source": [
    "# Split data using Stratified Sampling\n",
    "\n",
    "from sklearn.model_selection import StratifiedShuffleSplit\n",
    "split = StratifiedShuffleSplit(n_splits=10, test_size=0.2, random_state=42)\n",
    "\n",
    "for train_index, test_index  in split.split(sms_data, sms_data['Label']):\n",
    "    sms_train = sms_data.loc[train_index]\n",
    "    sms_test = sms_data.loc[test_index]\n",
    "    \n",
    "print(sms_train['Label'].value_counts() / len(sms_train))\n",
    "print()\n",
    "print(sms_test['Label'].value_counts() / len(sms_test))"
   ]
  },
  {
   "cell_type": "code",
   "execution_count": 8,
   "metadata": {},
   "outputs": [],
   "source": [
    "# Split data using train-test-split\n",
    "\n",
    "from sklearn.utils import shuffle\n",
    "from sklearn.model_selection import train_test_split\n",
    "\n",
    "X_train, X_test, y_train, y_test = train_test_split(*shuffle(sms, label), test_size=0.1)"
   ]
  },
  {
   "cell_type": "code",
   "execution_count": 9,
   "metadata": {},
   "outputs": [
    {
     "name": "stdout",
     "output_type": "stream",
     "text": [
      "ham     0.869366\n",
      "spam    0.130634\n",
      "Name: Label, dtype: float64\n",
      "\n",
      "ham     0.835125\n",
      "spam    0.164875\n",
      "Name: Label, dtype: float64\n"
     ]
    }
   ],
   "source": [
    "print(y_train.value_counts() / len(y_train))\n",
    "print()\n",
    "print(y_test.value_counts() / len(y_test))"
   ]
  },
  {
   "cell_type": "markdown",
   "metadata": {},
   "source": [
    "we'll use the output from `StratifiedShuffleSplit` because it represents a more accurate population ratio of the original dataset"
   ]
  },
  {
   "cell_type": "code",
   "execution_count": 44,
   "metadata": {},
   "outputs": [
    {
     "data": {
      "text/plain": [
       "<matplotlib.legend.Legend at 0x21668984748>"
      ]
     },
     "execution_count": 44,
     "metadata": {},
     "output_type": "execute_result"
    },
    {
     "data": {
      "image/png": "[encoded data removed]",
      "text/plain": [
       "<Figure size 432x288 with 2 Axes>"
      ]
     },
     "metadata": {
      "needs_background": "light"
     },
     "output_type": "display_data"
    }
   ],
   "source": [
    "# Visualizing Population similarities (original data versus Stratified sampled data)\n",
    "\n",
    "count = sms_data['Label'].value_counts()\n",
    "\n",
    "plt.subplot(121)\n",
    "plt.bar(['ham', 'spam'], count, label='Original', color='g')\n",
    "plt.legend()\n",
    "\n",
    "plt.subplot(122)\n",
    "plt.bar(['ham', 'spam'], sms_train['Label'].value_counts(), label='Stratified', color='y')\n",
    "plt.subplots_adjust(right=2)\n",
    "plt.legend()\n"
   ]
  },
  {
   "cell_type": "markdown",
   "metadata": {},
   "source": [
    "Plot shows similar proportion of both classes, now we can train a less bias model, although the data is naturally skewed"
   ]
  },
  {
   "cell_type": "code",
   "execution_count": 46,
   "metadata": {},
   "outputs": [],
   "source": [
    "# import nlp engine\n",
    "import spacy\n",
    "from spacy.lang.en import STOP_WORDS\n",
    "nlp = spacy.load('en')"
   ]
  },
  {
   "cell_type": "code",
   "execution_count": 52,
   "metadata": {},
   "outputs": [],
   "source": [
    "# Defining  training and testing data and label from the stratified output.\n",
    "X_train = sms_train['Message']\n",
    "y_train = (sms_train['Label'] == 'spam')  # Creating a binary label with 'spam' as the positive class\n",
    "\n",
    "X_test = sms_test['Message']\n",
    "y_test = (sms_test['Label'] == 'spam')    # Creating a binary label with 'spam' as the positive class"
   ]
  },
  {
   "cell_type": "markdown",
   "metadata": {},
   "source": [
    "Text processing is performed on the data using `Bag-of-Words` Technique"
   ]
  },
  {
   "cell_type": "code",
   "execution_count": 49,
   "metadata": {},
   "outputs": [],
   "source": [
    "# importing sklearn text processing engine\n",
    "from sklearn.feature_extraction.text import CountVectorizer, HashingVectorizer, TfidfVectorizer  # We'd only use TfidfVectorizer"
   ]
  },
  {
   "cell_type": "code",
   "execution_count": 50,
   "metadata": {},
   "outputs": [],
   "source": [
    "from sklearn.base import BaseEstimator, TransformerMixin\n",
    "\n",
    "class toList(BaseEstimator, TransformerMixin):\n",
    "    '''Custom Transformer that converts a Table of \n",
    "    texts to a List of Text data.\n",
    "    '''\n",
    "    def __init__(self):\n",
    "        pass\n",
    "    def fit(self, X, y=None):\n",
    "        return self\n",
    "    def transform(self, X, y=None):\n",
    "        result = X.tolist()\n",
    "        return result"
   ]
  },
  {
   "cell_type": "markdown",
   "metadata": {},
   "source": [
    "create a pipeline that transforms the text data and trains it using a straight forward `MultinomialNB` model"
   ]
  },
  {
   "cell_type": "code",
   "execution_count": 54,
   "metadata": {},
   "outputs": [
    {
     "data": {
      "text/plain": [
       "Pipeline(memory=None,\n",
       "     steps=[('document', toList()), ('BOW', TfidfVectorizer(analyzer='word', binary=False, decode_error='strict',\n",
       "        dtype=<class 'numpy.float64'>, encoding='utf-8', input='content',\n",
       "        lowercase=True, max_df=1.0, max_features=None, min_df=1,\n",
       "        ngram_range=(1, 1), norm='l2', preprocessor=...e,\n",
       "        vocabulary=None)), ('Model', MultinomialNB(alpha=1.0, class_prior=None, fit_prior=True))])"
      ]
     },
     "execution_count": 54,
     "metadata": {},
     "output_type": "execute_result"
    }
   ],
   "source": [
    "from sklearn.naive_bayes import MultinomialNB\n",
    "from sklearn.pipeline import Pipeline\n",
    "\n",
    "\n",
    "text_pipe = Pipeline([\n",
    "    ('document', toList()),\n",
    "    ('BOW', TfidfVectorizer()),\n",
    "    ('Model', MultinomialNB())\n",
    "])\n",
    "\n",
    "text_pipe.fit(X_train, y_train)"
   ]
  },
  {
   "cell_type": "markdown",
   "metadata": {},
   "source": [
    "#### Model Evaluation Process "
   ]
  },
  {
   "cell_type": "code",
   "execution_count": 61,
   "metadata": {},
   "outputs": [
    {
     "data": {
      "text/plain": [
       "array([0.95627803, 0.94955157, 0.95403587, 0.96296296, 0.94269663])"
      ]
     },
     "execution_count": 61,
     "metadata": {},
     "output_type": "execute_result"
    }
   ],
   "source": [
    "from sklearn.model_selection import cross_val_score, cross_val_predict\n",
    "\n",
    "# cross validation using 'accuracy' as scoring metric\n",
    "cross_val_score(text_pipe, X_train, y_train, scoring='accuracy', cv=5)"
   ]
  },
  {
   "cell_type": "markdown",
   "metadata": {},
   "source": [
    "A very naive model that predicts all **HAM** would have a relatively similar score due to the skewedness of data"
   ]
  },
  {
   "cell_type": "markdown",
   "metadata": {},
   "source": [
    "Looking into the trained model using more reliable classification metrics :"
   ]
  },
  {
   "cell_type": "code",
   "execution_count": 93,
   "metadata": {},
   "outputs": [
    {
     "data": {
      "text/html": [
       "<div>\n",
       "<style scoped>\n",
       "    .dataframe tbody tr th:only-of-type {\n",
       "        vertical-align: middle;\n",
       "    }\n",
       "\n",
       "    .dataframe tbody tr th {\n",
       "        vertical-align: top;\n",
       "    }\n",
       "\n",
       "    .dataframe thead th {\n",
       "        text-align: right;\n",
       "    }\n",
       "</style>\n",
       "<table border=\"1\" class=\"dataframe\">\n",
       "  <thead>\n",
       "    <tr style=\"text-align: right;\">\n",
       "      <th></th>\n",
       "      <th>Ham_Prediction</th>\n",
       "      <th>Spam_Prediction</th>\n",
       "    </tr>\n",
       "  </thead>\n",
       "  <tbody>\n",
       "    <tr>\n",
       "      <th>Ham_Class</th>\n",
       "      <td>3859</td>\n",
       "      <td>0</td>\n",
       "    </tr>\n",
       "    <tr>\n",
       "      <th>Spam_Class</th>\n",
       "      <td>209</td>\n",
       "      <td>389</td>\n",
       "    </tr>\n",
       "  </tbody>\n",
       "</table>\n",
       "</div>"
      ],
      "text/plain": [
       "            Ham_Prediction  Spam_Prediction\n",
       "Ham_Class             3859                0\n",
       "Spam_Class             209              389"
      ]
     },
     "execution_count": 93,
     "metadata": {},
     "output_type": "execute_result"
    }
   ],
   "source": [
    "from sklearn.metrics import confusion_matrix\n",
    "\n",
    "y_pred = cross_val_predict(text_pipe, X_train, y_train, cv=5)\n",
    "y_scores = cross_val_predict(text_pipe, X_train, y_train, cv=5, method='predict_proba')  # probability scores from each cv instamce\n",
    "\n",
    "def ConfusionMatrix(y_train, y_pred):\n",
    "    '''Show well Labelled confusion matrix'''\n",
    "    \n",
    "    matrix = confusion_matrix(y_train, y_pred)\n",
    "    matrix_frame = pd.DataFrame(matrix , index=['Ham_Class', 'Spam_Class'], columns=['Ham_Prediction', 'Spam_Prediction'])\n",
    "    return matrix_frame\n",
    "\n",
    "ConfusionMatrix(y_train, y_pred) "
   ]
  },
  {
   "cell_type": "markdown",
   "metadata": {},
   "source": [
    "oh interesting! all the Hams were predicted correctly, although about 35% aprox. of the Spam class was predicted wrongly"
   ]
  },
  {
   "cell_type": "code",
   "execution_count": 62,
   "metadata": {},
   "outputs": [
    {
     "data": {
      "text/plain": [
       "array([0.675     , 0.625     , 0.65833333, 0.72268908, 0.57142857])"
      ]
     },
     "execution_count": 62,
     "metadata": {},
     "output_type": "execute_result"
    }
   ],
   "source": [
    "# Looking at the recall score of the positive class (SPAM)\n",
    "cross_val_score(text_pipe, X_train, y_train, scoring='recall', cv=5)"
   ]
  },
  {
   "cell_type": "markdown",
   "metadata": {},
   "source": [
    "Pretty low recall score. The `precision_recall_curve` should give a better view on how to improve this model"
   ]
  },
  {
   "cell_type": "code",
   "execution_count": 70,
   "metadata": {},
   "outputs": [
    {
     "data": {
      "image/png": "[encoded data removed]",
      "text/plain": [
       "<Figure size 432x288 with 1 Axes>"
      ]
     },
     "metadata": {
      "needs_background": "light"
     },
     "output_type": "display_data"
    }
   ],
   "source": [
    "from sklearn.metrics import precision_recall_curve\n",
    "\n",
    "def plot_precision_recall(precision, recall, threshold):\n",
    "    '''Plot precision recall curve, \n",
    "    given the scores for each threshold\n",
    "    '''\n",
    "    plt.plot(threshold, precision[:-1], 'g-', label='Precision')\n",
    "    plt.plot(threshold, recall[:-1], 'y--', label='Recall')\n",
    "    plt.xlabel('Threshold')\n",
    "    plt.ylabel('precision-recall score')\n",
    "    plt.legend(loc='best')\n",
    "\n",
    "precision, recall, threshold = precision_recall_curve(y_train, y_scores[:, 1])\n",
    "plot_precision_recall(precision, recall, threshold)"
   ]
  },
  {
   "cell_type": "markdown",
   "metadata": {},
   "source": [
    "From the precision_recall curve, we can manually choose a threshold that gives a fair precison and recall score"
   ]
  },
  {
   "cell_type": "markdown",
   "metadata": {},
   "source": [
    "We'd evaluate the model using a threshold of `0.1`"
   ]
  },
  {
   "cell_type": "code",
   "execution_count": 71,
   "metadata": {},
   "outputs": [],
   "source": [
    "y_verif = (y_scores[:, 1] > 0.1)"
   ]
  },
  {
   "cell_type": "code",
   "execution_count": 72,
   "metadata": {},
   "outputs": [
    {
     "data": {
      "text/html": [
       "<div>\n",
       "<style scoped>\n",
       "    .dataframe tbody tr th:only-of-type {\n",
       "        vertical-align: middle;\n",
       "    }\n",
       "\n",
       "    .dataframe tbody tr th {\n",
       "        vertical-align: top;\n",
       "    }\n",
       "\n",
       "    .dataframe thead th {\n",
       "        text-align: right;\n",
       "    }\n",
       "</style>\n",
       "<table border=\"1\" class=\"dataframe\">\n",
       "  <thead>\n",
       "    <tr style=\"text-align: right;\">\n",
       "      <th></th>\n",
       "      <th>Ham_Prediction</th>\n",
       "      <th>Spam_Prediction</th>\n",
       "    </tr>\n",
       "  </thead>\n",
       "  <tbody>\n",
       "    <tr>\n",
       "      <th>Ham_Class</th>\n",
       "      <td>3779</td>\n",
       "      <td>80</td>\n",
       "    </tr>\n",
       "    <tr>\n",
       "      <th>Spam_Class</th>\n",
       "      <td>55</td>\n",
       "      <td>543</td>\n",
       "    </tr>\n",
       "  </tbody>\n",
       "</table>\n",
       "</div>"
      ],
      "text/plain": [
       "            Ham_Prediction  Spam_Prediction\n",
       "Ham_Class             3779               80\n",
       "Spam_Class              55              543"
      ]
     },
     "execution_count": 72,
     "metadata": {},
     "output_type": "execute_result"
    }
   ],
   "source": [
    "ConfusionMatrix(y_train, y_verif)"
   ]
  },
  {
   "cell_type": "markdown",
   "metadata": {},
   "source": [
    "The following can be deduced from the Confusion Matrix:\n",
    "\n",
    "- 10% of the `Spam` class was predicted wrongly\n",
    "- 2% of the `Ham` class was predicted wrongly"
   ]
  },
  {
   "cell_type": "code",
   "execution_count": 87,
   "metadata": {},
   "outputs": [
    {
     "name": "stdout",
     "output_type": "stream",
     "text": [
      "%------------------Classification Report---------------------%\n",
      "\n",
      "              precision    recall  f1-score   support\n",
      "\n",
      "       False       0.99      0.98      0.98      3859\n",
      "        True       0.87      0.91      0.89       598\n",
      "\n",
      "   micro avg       0.97      0.97      0.97      4457\n",
      "   macro avg       0.93      0.94      0.94      4457\n",
      "weighted avg       0.97      0.97      0.97      4457\n",
      "\n"
     ]
    }
   ],
   "source": [
    "from sklearn.metrics import classification_report\n",
    "\n",
    "print('%------------------Classification Report---------------------%')\n",
    "print()\n",
    "print(classification_report(y_train, y_verif))"
   ]
  },
  {
   "cell_type": "code",
   "execution_count": null,
   "metadata": {},
   "outputs": [],
   "source": []
  },
  {
   "cell_type": "code",
   "execution_count": 73,
   "metadata": {},
   "outputs": [
    {
     "name": "stdout",
     "output_type": "stream",
     "text": [
      "precison score: 0.8715890850722311\n",
      "recall score: 0.9080267558528428\n"
     ]
    }
   ],
   "source": [
    "from sklearn.metrics import precision_score, recall_score\n",
    "\n",
    "print('precison score: {}'.format(precision_score(y_train, y_verif)))\n",
    "print('recall score: {}'.format(recall_score(y_train, y_verif)))      "
   ]
  },
  {
   "cell_type": "markdown",
   "metadata": {},
   "source": [
    "This is a comparatively better score"
   ]
  },
  {
   "cell_type": "markdown",
   "metadata": {},
   "source": [
    "The `ROC` is a good method evaluating our NaiveBayes Model and will be used for comparison purposes"
   ]
  },
  {
   "cell_type": "code",
   "execution_count": 75,
   "metadata": {},
   "outputs": [],
   "source": [
    "from sklearn.metrics import roc_curve"
   ]
  },
  {
   "cell_type": "code",
   "execution_count": 76,
   "metadata": {},
   "outputs": [],
   "source": [
    "def plot_roc(tpr=tpr, fpr=fpr):\n",
    "    plt.plot(tpr, fpr)\n",
    "    plt.plot([0, 1], [0, 1], '--')\n",
    "    plt.xlabel('False Positive Rate')\n",
    "    plt.ylabel('True Positive Rate')\n",
    "    plt.title('ROC Curve')\n",
    "    plt.xlim([0, 1])\n",
    "    plt.ylim([0, 1])"
   ]
  },
  {
   "cell_type": "code",
   "execution_count": 77,
   "metadata": {},
   "outputs": [
    {
     "data": {
      "image/png": "[encoded data removed]",
      "text/plain": [
       "<Figure size 432x288 with 1 Axes>"
      ]
     },
     "metadata": {
      "needs_background": "light"
     },
     "output_type": "display_data"
    }
   ],
   "source": [
    "tpr, fpr, precision = roc_curve(y_train, y_scores[:, 1])\n",
    "plot_roc(tpr, fpr)"
   ]
  },
  {
   "cell_type": "markdown",
   "metadata": {},
   "source": [
    "The best model has the highest distance from the red diagonal line"
   ]
  },
  {
   "cell_type": "markdown",
   "metadata": {},
   "source": [
    "#### Support Vector Machine Classifier on our little Spam dataset"
   ]
  },
  {
   "cell_type": "code",
   "execution_count": 80,
   "metadata": {},
   "outputs": [],
   "source": [
    "# Importing Model\n",
    "from sklearn.svm import SVC\n"
   ]
  },
  {
   "cell_type": "code",
   "execution_count": null,
   "metadata": {},
   "outputs": [],
   "source": []
  }
 ],
 "metadata": {
  "kernelspec": {
   "display_name": "Python 3",
   "language": "python",
   "name": "python3"
  },
  "language_info": {
   "codemirror_mode": {
    "name": "ipython",
    "version": 3
   },
   "file_extension": ".py",
   "mimetype": "text/x-python",
   "name": "python",
   "nbconvert_exporter": "python",
   "pygments_lexer": "ipython3",
   "version": "3.8.5"
  }
 },
 "nbformat": 4,
 "nbformat_minor": 2
}
